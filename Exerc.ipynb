{
 "cells": [
  {
   "cell_type": "code",
   "execution_count": 3,
   "id": "bd150d26-30ea-4ee7-bc17-e2cf66b32527",
   "metadata": {
    "scrolled": true
   },
   "outputs": [
    {
     "ename": "AttributeError",
     "evalue": "'Document' object has no attribute 'get_document'",
     "output_type": "error",
     "traceback": [
      "\u001b[1;31m---------------------------------------------------------------------------\u001b[0m",
      "\u001b[1;31mAttributeError\u001b[0m                            Traceback (most recent call last)",
      "Cell \u001b[1;32mIn[3], line 14\u001b[0m\n\u001b[0;32m     12\u001b[0m texto \u001b[38;5;241m=\u001b[39m SimpleTextExtraction()\n\u001b[0;32m     13\u001b[0m txt_pag \u001b[38;5;241m=\u001b[39m {}\n\u001b[1;32m---> 14\u001b[0m \u001b[38;5;28;01mfor\u001b[39;00m i, page \u001b[38;5;129;01min\u001b[39;00m \u001b[38;5;28menumerate\u001b[39m(\u001b[43mpdf\u001b[49m\u001b[38;5;241;43m.\u001b[39;49m\u001b[43mget_document\u001b[49m()\u001b[38;5;241m.\u001b[39mget_page(\u001b[38;5;241m0\u001b[39m)\u001b[38;5;241m.\u001b[39mget_pages()):\n\u001b[0;32m     15\u001b[0m     texto\u001b[38;5;241m.\u001b[39mprocess_page(page)\n\u001b[0;32m     16\u001b[0m     txt_pag[i] \u001b[38;5;241m=\u001b[39m texto\u001b[38;5;241m.\u001b[39mget_text_for_page(i)\n",
      "\u001b[1;31mAttributeError\u001b[0m: 'Document' object has no attribute 'get_document'"
     ]
    }
   ],
   "source": [
    "import fitz  # PyMuPDF\n",
    "from pathlib import Path\n",
    "\n",
    "pdf_path = Path(\"Modelo_PDF (1).pdf\")\n",
    "\n",
    "# Abrir o PDF\n",
    "pdf_document = fitz.open(pdf_path)\n",
    "\n",
    "# Verificar se o PDF foi carregado corretamente\n",
    "if pdf_document.page_count > 0:\n",
    "    txt_pag = {}\n",
    "    for i in range(pdf_document.page_count):\n",
    "        page = pdf_document.load_page(i)\n",
    "        texto = page.get_text(\"text\")\n",
    "        txt_pag[i] = texto\n",
    "    for pagina, conteudo in txt_pag.items():\n",
    "        print(f\"Pagina {pagina + 1}:\")\n",
    "        print(conteudo)\n",
    "        print(\"\\n\" + \"-\" * 50 + \"\\n\")\n",
    "else:\n",
    "    print(\"O PDF inserido está vazio\")\n"
   ]
  },
  {
   "cell_type": "code",
   "execution_count": null,
   "id": "288e8536-0bb8-4719-8c2f-50baf9c139fc",
   "metadata": {},
   "outputs": [],
   "source": []
  }
 ],
 "metadata": {
  "kernelspec": {
   "display_name": "Python 3 (ipykernel)",
   "language": "python",
   "name": "python3"
  },
  "language_info": {
   "codemirror_mode": {
    "name": "ipython",
    "version": 3
   },
   "file_extension": ".py",
   "mimetype": "text/x-python",
   "name": "python",
   "nbconvert_exporter": "python",
   "pygments_lexer": "ipython3",
   "version": "3.12.5"
  }
 },
 "nbformat": 4,
 "nbformat_minor": 5
}
